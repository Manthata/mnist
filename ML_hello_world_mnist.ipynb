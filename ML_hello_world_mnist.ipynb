{
 "cells": [
  {
   "cell_type": "code",
   "execution_count": 65,
   "id": "46ec56ea",
   "metadata": {},
   "outputs": [],
   "source": [
    "import tensorflow as tf\n",
    "from tensorflow import keras \n",
    "import matplotlib.pyplot as plt \n",
    "%matplotlib inline \n",
    "import numpy as np\n",
    "from sys import getsizeof\n",
    "import pandas as pd\n",
    "import seaborn as sn\n"
   ]
  },
  {
   "cell_type": "code",
   "execution_count": 8,
   "id": "e2fddee0",
   "metadata": {},
   "outputs": [],
   "source": [
    "(x_train, y_train), (x_test, y_test) = keras.datasets.mnist.load_data()"
   ]
  },
  {
   "cell_type": "code",
   "execution_count": 17,
   "id": "151c6083",
   "metadata": {},
   "outputs": [
    {
     "data": {
      "text/plain": [
       "<matplotlib.image.AxesImage at 0x15b9afdf0>"
      ]
     },
     "execution_count": 17,
     "metadata": {},
     "output_type": "execute_result"
    },
    {
     "data": {
      "image/png": "[encoded data removed]",
      "text/plain": [
       "<Figure size 288x288 with 1 Axes>"
      ]
     },
     "metadata": {
      "needs_background": "light"
     },
     "output_type": "display_data"
    }
   ],
   "source": [
    "plt.matshow(x_train[0])"
   ]
  },
  {
   "cell_type": "code",
   "execution_count": 19,
   "id": "57d7f91a",
   "metadata": {},
   "outputs": [
    {
     "data": {
      "text/plain": [
       "5"
      ]
     },
     "execution_count": 19,
     "metadata": {},
     "output_type": "execute_result"
    }
   ],
   "source": [
    "y_train[0]"
   ]
  },
  {
   "cell_type": "code",
   "execution_count": 20,
   "id": "5f6773b1",
   "metadata": {},
   "outputs": [],
   "source": [
    "# We are going to normalize the data by dividing by 255\n",
    "\n",
    "X_train = x_train/255\n",
    "X_test = x_test/255"
   ]
  },
  {
   "cell_type": "code",
   "execution_count": 31,
   "id": "c925c70b",
   "metadata": {},
   "outputs": [
    {
     "data": {
      "text/plain": [
       "112"
      ]
     },
     "execution_count": 31,
     "metadata": {},
     "output_type": "execute_result"
    }
   ],
   "source": [
    "# size of the array before normalization in bytes\n",
    "getsizeof(x_train[0])\n",
    "\n",
    "# size of the array after normalization in bytes\n",
    "getsizeof(X_train[0])\n",
    "# conclusion the memory occupied by the array does not change after normalization,\n",
    "# However the size changes, thus affecting the number of input neurons we need "
   ]
  },
  {
   "cell_type": "code",
   "execution_count": 37,
   "id": "98598975",
   "metadata": {},
   "outputs": [],
   "source": [
    "# Now we flattern the data \n",
    "# reshape(row, col)\n",
    "\n",
    "X_train_flat = X_train.reshape(len(X_train), 28*28)\n",
    "X_test_flat = X_test.reshape(len(X_test), 28*28)"
   ]
  },
  {
   "cell_type": "code",
   "execution_count": 42,
   "id": "3ed4342a",
   "metadata": {},
   "outputs": [
    {
     "name": "stderr",
     "output_type": "stream",
     "text": [
      "2021-08-22 16:04:55.149462: I tensorflow/core/platform/cpu_feature_guard.cc:142] This TensorFlow binary is optimized with oneAPI Deep Neural Network Library (oneDNN) to use the following CPU instructions in performance-critical operations:  AVX2 FMA\n",
      "To enable them in other operations, rebuild TensorFlow with the appropriate compiler flags.\n"
     ]
    }
   ],
   "source": [
    "# Lets build the neural net \n",
    "model = keras.Sequential([keras.layers.Dense(10, input_shape = (784,), activation='sigmoid')])"
   ]
  },
  {
   "cell_type": "code",
   "execution_count": 43,
   "id": "f61b0036",
   "metadata": {},
   "outputs": [],
   "source": [
    "#we compile the neural net\n",
    "model.compile(optimizer='adam', loss= 'sparse_categorical_crossentropy', metrics=['accuracy'])"
   ]
  },
  {
   "cell_type": "code",
   "execution_count": 62,
   "id": "c105d4c5",
   "metadata": {},
   "outputs": [
    {
     "name": "stdout",
     "output_type": "stream",
     "text": [
      "Epoch 1/10\n",
      "1875/1875 [==============================] - 2s 1ms/step - loss: 0.2161 - accuracy: 0.9396\n",
      "Epoch 2/10\n",
      "1875/1875 [==============================] - 2s 957us/step - loss: 0.2162 - accuracy: 0.9398\n",
      "Epoch 3/10\n",
      "1875/1875 [==============================] - 2s 927us/step - loss: 0.2163 - accuracy: 0.9391\n",
      "Epoch 4/10\n",
      "1875/1875 [==============================] - 2s 917us/step - loss: 0.2164 - accuracy: 0.9392\n",
      "Epoch 5/10\n",
      "1875/1875 [==============================] - 2s 922us/step - loss: 0.2161 - accuracy: 0.9391\n",
      "Epoch 6/10\n",
      "1875/1875 [==============================] - 2s 912us/step - loss: 0.2157 - accuracy: 0.9399\n",
      "Epoch 7/10\n",
      "1875/1875 [==============================] - 2s 941us/step - loss: 0.2161 - accuracy: 0.9394\n",
      "Epoch 8/10\n",
      "1875/1875 [==============================] - 2s 897us/step - loss: 0.2161 - accuracy: 0.9392\n",
      "Epoch 9/10\n",
      "1875/1875 [==============================] - 2s 919us/step - loss: 0.2159 - accuracy: 0.9395\n",
      "Epoch 10/10\n",
      "1875/1875 [==============================] - 2s 902us/step - loss: 0.2159 - accuracy: 0.9399\n"
     ]
    },
    {
     "data": {
      "text/plain": [
       "<keras.callbacks.History at 0x15bd65d90>"
      ]
     },
     "execution_count": 62,
     "metadata": {},
     "output_type": "execute_result"
    }
   ],
   "source": [
    "#We fit the model \n",
    "model.fit(X_train_flat, y_train, epochs =10)\n",
    "\n",
    "\n"
   ]
  },
  {
   "cell_type": "code",
   "execution_count": 63,
   "id": "3f8ddfd8",
   "metadata": {},
   "outputs": [
    {
     "name": "stdout",
     "output_type": "stream",
     "text": [
      "313/313 [==============================] - 0s 726us/step - loss: 0.3239 - accuracy: 0.9231\n"
     ]
    },
    {
     "data": {
      "text/plain": [
       "[0.32394641637802124, 0.9230999946594238]"
      ]
     },
     "execution_count": 63,
     "metadata": {},
     "output_type": "execute_result"
    }
   ],
   "source": [
    "model.evaluate(X_test_flat, y_test)"
   ]
  },
  {
   "cell_type": "code",
   "execution_count": 66,
   "id": "75c9aad9",
   "metadata": {},
   "outputs": [
    {
     "data": {
      "text/plain": [
       "Text(69.0, 0.5, 'Truth')"
      ]
     },
     "execution_count": 66,
     "metadata": {},
     "output_type": "execute_result"
    },
    {
     "data": {
      "image/png": "[encoded data removed]",
      "text/plain": [
       "<Figure size 720x504 with 2 Axes>"
      ]
     },
     "metadata": {
      "needs_background": "light"
     },
     "output_type": "display_data"
    }
   ],
   "source": [
    "y_predicted = model.predict(X_test_flat)\n",
    "y_predicted_labels = [np.argmax(i) for i in y_predicted]\n",
    "cm = tf.math.confusion_matrix(labels=y_test,predictions=y_predicted_labels)\n",
    "\n",
    "plt.figure(figsize = (10,7))\n",
    "sn.heatmap(cm, annot=True, fmt='d')\n",
    "plt.xlabel('Predicted')\n",
    "plt.ylabel('Truth')"
   ]
  },
  {
   "cell_type": "code",
   "execution_count": null,
   "id": "4ba5f24d",
   "metadata": {},
   "outputs": [],
   "source": []
  }
 ],
 "metadata": {
  "kernelspec": {
   "display_name": "Python 3 (ipykernel)",
   "language": "python",
   "name": "python3"
  },
  "language_info": {
   "codemirror_mode": {
    "name": "ipython",
    "version": 3
   },
   "file_extension": ".py",
   "mimetype": "text/x-python",
   "name": "python",
   "nbconvert_exporter": "python",
   "pygments_lexer": "ipython3",
   "version": "3.8.0"
  }
 },
 "nbformat": 4,
 "nbformat_minor": 5
}
